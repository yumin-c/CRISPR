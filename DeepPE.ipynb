{
 "cells": [
  {
   "cell_type": "code",
   "execution_count": 137,
   "metadata": {},
   "outputs": [],
   "source": [
    "import sys\n",
    "import os\n",
    "import math\n",
    "\n",
    "import numpy as np\n",
    "from numpy.random import shuffle\n",
    "import scipy\n",
    "import pandas as pd\n",
    "\n",
    "from typing import Tuple\n",
    "\n",
    "import torch\n",
    "import torch.nn.functional as F\n",
    "import torch.nn as nn\n",
    "import torch.optim as optim\n",
    "\n",
    "from torch.utils.data import Dataset, TensorDataset, DataLoader\n",
    "from torch.utils.data.sampler import Sampler, SequentialSampler\n",
    "from torch.backends import cudnn\n",
    "from sklearn.model_selection import train_test_split, KFold\n",
    "\n",
    "from tqdm import tqdm\n",
    "import matplotlib.pyplot as plt\n",
    "import seaborn as sns\n",
    "\n",
    "import wandb\n"
   ]
  },
  {
   "cell_type": "code",
   "execution_count": 138,
   "metadata": {},
   "outputs": [],
   "source": [
    "train_PECV = pd.read_csv('data/DeepPrime_PECV__train_220214.csv')\n",
    "# test_PECV = pd.read_csv('data/DeepPrime_PECV__test_220214.csv')\n"
   ]
  },
  {
   "cell_type": "code",
   "execution_count": 371,
   "metadata": {},
   "outputs": [],
   "source": [
    "class GeneInteractionModel(nn.Module):\n",
    "\n",
    "    def __init__(self, hidden_size, num_layers):\n",
    "        super(GeneInteractionModel, self).__init__()\n",
    "        self.hidden_size = hidden_size\n",
    "        self.num_layers = num_layers\n",
    "\n",
    "        self.c1 = nn.Sequential(\n",
    "            nn.Conv2d(in_channels=4, out_channels=128, kernel_size=(2, 3), stride=1, padding=(0, 1)),\n",
    "            nn.GELU(),\n",
    "        )\n",
    "        self.c2 = nn.Sequential(\n",
    "            nn.Conv1d(in_channels=128, out_channels=64, kernel_size=3, stride=1, padding=1),\n",
    "            nn.GELU(),\n",
    "            nn.AvgPool1d(kernel_size=2, stride=2),\n",
    "\n",
    "            nn.Conv1d(in_channels=64, out_channels=64, kernel_size=3, stride=1, padding=1),\n",
    "            nn.GELU(),\n",
    "            nn.AvgPool1d(kernel_size=2, stride=2),\n",
    "\n",
    "            nn.Conv1d(in_channels=64, out_channels=32, kernel_size=3, stride=1, padding=1),\n",
    "            nn.GELU(),\n",
    "            nn.AvgPool1d(kernel_size=2, stride=2),\n",
    "        )\n",
    "\n",
    "        self.r = nn.GRU(32, hidden_size, num_layers,\n",
    "                        batch_first=True, bidirectional=True)\n",
    "        \n",
    "        self.d = nn.Sequential(\n",
    "            nn.Linear(27, 64),\n",
    "            nn.ReLU(),\n",
    "            nn.Dropout(0.5),\n",
    "            nn.Linear(64, 32), \n",
    "            nn.ReLU(),\n",
    "            nn.Dropout(0.5),\n",
    "            nn.Linear(32, 16)\n",
    "        )\n",
    "        \n",
    "        self.head = nn.Linear(2 * hidden_size + 16, 1, bias=True)\n",
    "    \n",
    "    def forward(self, g, x):\n",
    "        g = torch.squeeze(self.c1(g), 2)\n",
    "        g = self.c2(g)\n",
    "        g, _ = self.r(torch.transpose(g, 1, 2))\n",
    "        \n",
    "        x = self.d(x)\n",
    "\n",
    "        out = self.head(torch.cat((g[:, -1, :], x), dim=1))\n",
    "\n",
    "        # out = self.head(g[:, 0])\n",
    "\n",
    "        return out"
   ]
  },
  {
   "cell_type": "code",
   "execution_count": 333,
   "metadata": {},
   "outputs": [],
   "source": [
    "class GeneFeatureDataset(Dataset):\n",
    "    \n",
    "    def __init__(\n",
    "        self,\n",
    "        gene: torch.Tensor = None,\n",
    "        features: torch.Tensor = None,\n",
    "        target: torch.Tensor = None,\n",
    "        fold: int = None,\n",
    "        mode: str = 'train',\n",
    "        fold_list: np.ndarray = None,\n",
    "    ):\n",
    "        self.fold = fold\n",
    "        self.mode = mode\n",
    "        self.fold_list = fold_list\n",
    "        self.indices = self._select_fold()\n",
    "        self.gene = gene[self.indices]\n",
    "        self.features = features[self.indices]\n",
    "        self.target = target[self.indices]\n",
    "\n",
    "    def _select_fold(self):\n",
    "        selected_indices = []\n",
    "\n",
    "        if self.mode == 'train':\n",
    "            for i in range(len(self.fold_list)):\n",
    "                if self.fold_list[i] != self.fold:\n",
    "                    selected_indices.append(i)\n",
    "        elif self.mode == 'valid':\n",
    "            for i in range(len(self.fold_list)):\n",
    "                if self.fold_list[i] == self.fold:\n",
    "                    selected_indices.append(i)\n",
    "        else:\n",
    "            for i in range(len(self.fold_list)):\n",
    "                selected_indices.append(i)\n",
    "\n",
    "        return selected_indices\n",
    "    \n",
    "    def __len__(self):\n",
    "        return len(self.gene)\n",
    "    \n",
    "    def __getitem__(self, idx:int) -> Tuple[torch.Tensor, torch.Tensor]:\n",
    "        gene = self.gene[idx]\n",
    "        features = self.features[idx]\n",
    "        target = self.target[idx]\n",
    "\n",
    "        return gene, features, target\n",
    "\n",
    "\n"
   ]
  },
  {
   "cell_type": "code",
   "execution_count": 183,
   "metadata": {},
   "outputs": [],
   "source": [
    "def preprocess_seq(data):\n",
    "    print(\"Start preprocessing the sequence done 2d\")\n",
    "    length = 74\n",
    "\n",
    "    DATA_X = np.zeros((len(data), 1, length, 4), dtype=float)\n",
    "    print(np.shape(data), len(data), length)\n",
    "    for l in tqdm(range(len(data))):\n",
    "        for i in range(length):\n",
    "\n",
    "            try:\n",
    "                data[l][i]\n",
    "            except:\n",
    "                print(data[l], i, length, len(data))\n",
    "\n",
    "            if data[l][i] in \"Aa\":\n",
    "                DATA_X[l, 0, i, 0] = 1\n",
    "            elif data[l][i] in \"Cc\":\n",
    "                DATA_X[l, 0, i, 1] = 1\n",
    "            elif data[l][i] in \"Gg\":\n",
    "                DATA_X[l, 0, i, 2] = 1\n",
    "            elif data[l][i] in \"Tt\":\n",
    "                DATA_X[l, 0, i, 3] = 1\n",
    "            elif data[l][i] in \"Xx\":\n",
    "                DATA_X[l, 0, i, 0] = 0.5\n",
    "                DATA_X[l, 0, i, 1] = 0.5\n",
    "                DATA_X[l, 0, i, 2] = 0.5\n",
    "                DATA_X[l, 0, i, 3] = 0.5\n",
    "            else:\n",
    "                print(\"Non-ATGC character \" + data[l])\n",
    "                print(i)\n",
    "                print(data[l][i])\n",
    "                sys.exit()\n",
    "\n",
    "    print(\"Preprocessed the sequence\")\n",
    "    return DATA_X\n"
   ]
  },
  {
   "cell_type": "code",
   "execution_count": 143,
   "metadata": {},
   "outputs": [
    {
     "name": "stdout",
     "output_type": "stream",
     "text": [
      "Start preprocessing the sequence done 2d\n",
      "(259910,) 259910 74\n"
     ]
    },
    {
     "name": "stderr",
     "output_type": "stream",
     "text": [
      "100%|██████████| 259910/259910 [01:57<00:00, 2206.04it/s]\n"
     ]
    },
    {
     "name": "stdout",
     "output_type": "stream",
     "text": [
      "Preprocessed the sequence\n",
      "Start preprocessing the sequence done 2d\n",
      "(259910,) 259910 74\n"
     ]
    },
    {
     "name": "stderr",
     "output_type": "stream",
     "text": [
      "100%|██████████| 259910/259910 [02:48<00:00, 1539.94it/s]\n"
     ]
    },
    {
     "name": "stdout",
     "output_type": "stream",
     "text": [
      "Preprocessed the sequence\n"
     ]
    }
   ],
   "source": [
    "if not os.path.isfile('data/g_train.npy'):\n",
    "    wt_train = preprocess_seq(train_PECV.WT74_On)\n",
    "    ed_train = preprocess_seq(train_PECV.Edited74_On)\n",
    "    g_train = np.concatenate((wt_train, ed_train), axis=1)\n",
    "    g_train = 2 * g_train - 1\n",
    "\n",
    "    np.save('data/g_train.npy', g_train)\n",
    "else:\n",
    "    g_train = np.load('data/g_train.npy')\n"
   ]
  },
  {
   "cell_type": "code",
   "execution_count": 145,
   "metadata": {},
   "outputs": [],
   "source": [
    "train_features = train_PECV.loc[:, ['PBSlen', 'RTlen', 'RT-PBSlen', 'Edit_pos', 'Edit_len', 'RHA_len', 'type_sub',\n",
    "                                    'type_ins', 'type_del', 'Tm1', 'Tm2', 'Tm2new', 'Tm3', 'Tm4', 'TmD',\n",
    "                                    'nGCcnt1', 'nGCcnt2', 'nGCcnt3', 'fGCcont1', 'fGCcont2', 'fGCcont3',\n",
    "                                    'MFE1', 'MFE2', 'MFE3', 'MFE4', 'MFE5', 'DeepSpCas9_score']]\n",
    "train_fold = train_PECV.Fold\n",
    "train_target = train_PECV.Measured_PE_efficiency\n"
   ]
  },
  {
   "cell_type": "code",
   "execution_count": 146,
   "metadata": {},
   "outputs": [],
   "source": [
    "x_train = (train_features - train_features.mean()) / train_features.std()\n",
    "y_train = (train_target - train_target.mean()) / train_target.std()\n",
    "x_train = x_train.to_numpy()\n",
    "y_train = y_train.to_numpy()"
   ]
  },
  {
   "cell_type": "code",
   "execution_count": 148,
   "metadata": {},
   "outputs": [],
   "source": [
    "device = 'cuda:0' if torch.cuda.is_available() else 'cpu'\n",
    "\n",
    "g_train = torch.tensor(g_train, dtype=torch.float32, device=device)\n",
    "x_train = torch.tensor(x_train, dtype=torch.float32, device=device)\n",
    "y_train = torch.tensor(y_train, dtype=torch.float32, device=device)"
   ]
  },
  {
   "cell_type": "code",
   "execution_count": 234,
   "metadata": {},
   "outputs": [
    {
     "data": {
      "text/plain": [
       "torch.Size([259910, 27])"
      ]
     },
     "execution_count": 234,
     "metadata": {},
     "output_type": "execute_result"
    }
   ],
   "source": [
    "x_train.shape"
   ]
  },
  {
   "cell_type": "code",
   "execution_count": 374,
   "metadata": {},
   "outputs": [],
   "source": [
    "# PARAMS\n",
    "\n",
    "batch_size = 2048\n",
    "learning_rate = 4e-3\n",
    "weight_decay = 1e-2\n",
    "T_0 = 10\n",
    "T_mult = 1\n",
    "hidden_size = 128\n",
    "n_layers = 1\n",
    "n_epochs = 10\n",
    "n_models = 1"
   ]
  },
  {
   "cell_type": "code",
   "execution_count": 375,
   "metadata": {},
   "outputs": [
    {
     "name": "stderr",
     "output_type": "stream",
     "text": [
      " 10%|█         | 1/10 [00:03<00:28,  3.21s/it]"
     ]
    },
    {
     "name": "stdout",
     "output_type": "stream",
     "text": [
      "[FOLD 01/05] [M 001/001] [E 001/010] : 0.7853 | 0.6470 | 0.6436\n"
     ]
    },
    {
     "name": "stderr",
     "output_type": "stream",
     "text": [
      " 20%|██        | 2/10 [00:06<00:26,  3.26s/it]"
     ]
    },
    {
     "name": "stdout",
     "output_type": "stream",
     "text": [
      "[FOLD 01/05] [M 001/001] [E 002/010] : 0.6611 | 0.5893 | 0.6798\n"
     ]
    },
    {
     "name": "stderr",
     "output_type": "stream",
     "text": [
      " 30%|███       | 3/10 [00:09<00:22,  3.23s/it]"
     ]
    },
    {
     "name": "stdout",
     "output_type": "stream",
     "text": [
      "[FOLD 01/05] [M 001/001] [E 003/010] : 0.5940 | 0.5330 | 0.7139\n"
     ]
    },
    {
     "name": "stderr",
     "output_type": "stream",
     "text": [
      " 40%|████      | 4/10 [00:12<00:19,  3.25s/it]"
     ]
    },
    {
     "name": "stdout",
     "output_type": "stream",
     "text": [
      "[FOLD 01/05] [M 001/001] [E 004/010] : 0.5117 | 0.4659 | 0.7406\n"
     ]
    },
    {
     "name": "stderr",
     "output_type": "stream",
     "text": [
      " 50%|█████     | 5/10 [00:16<00:16,  3.23s/it]"
     ]
    },
    {
     "name": "stdout",
     "output_type": "stream",
     "text": [
      "[FOLD 01/05] [M 001/001] [E 005/010] : 0.4501 | 0.4385 | 0.7480\n"
     ]
    },
    {
     "name": "stderr",
     "output_type": "stream",
     "text": [
      " 60%|██████    | 6/10 [00:19<00:12,  3.24s/it]"
     ]
    },
    {
     "name": "stdout",
     "output_type": "stream",
     "text": [
      "[FOLD 01/05] [M 001/001] [E 006/010] : 0.4136 | 0.4259 | 0.7572\n"
     ]
    },
    {
     "name": "stderr",
     "output_type": "stream",
     "text": [
      " 70%|███████   | 7/10 [00:22<00:09,  3.24s/it]"
     ]
    },
    {
     "name": "stdout",
     "output_type": "stream",
     "text": [
      "[FOLD 01/05] [M 001/001] [E 007/010] : 0.3833 | 0.4222 | 0.7650\n"
     ]
    },
    {
     "name": "stderr",
     "output_type": "stream",
     "text": [
      " 80%|████████  | 8/10 [00:25<00:06,  3.25s/it]"
     ]
    },
    {
     "name": "stdout",
     "output_type": "stream",
     "text": [
      "[FOLD 01/05] [M 001/001] [E 008/010] : 0.3631 | 0.4210 | 0.7672\n"
     ]
    },
    {
     "name": "stderr",
     "output_type": "stream",
     "text": [
      " 90%|█████████ | 9/10 [00:29<00:03,  3.23s/it]"
     ]
    },
    {
     "name": "stdout",
     "output_type": "stream",
     "text": [
      "[FOLD 01/05] [M 001/001] [E 009/010] : 0.3503 | 0.4234 | 0.7666\n"
     ]
    },
    {
     "name": "stderr",
     "output_type": "stream",
     "text": [
      "100%|██████████| 10/10 [00:32<00:00,  3.23s/it]"
     ]
    },
    {
     "name": "stdout",
     "output_type": "stream",
     "text": [
      "[FOLD 01/05] [M 001/001] [E 010/010] : 0.3435 | 0.4222 | 0.7664\n"
     ]
    },
    {
     "name": "stderr",
     "output_type": "stream",
     "text": [
      "\n",
      " 10%|█         | 1/10 [00:03<00:29,  3.32s/it]"
     ]
    },
    {
     "name": "stdout",
     "output_type": "stream",
     "text": [
      "[FOLD 02/05] [M 001/001] [E 001/010] : 0.7642 | 0.6278 | 0.6575\n"
     ]
    },
    {
     "name": "stderr",
     "output_type": "stream",
     "text": [
      " 20%|██        | 2/10 [00:06<00:26,  3.30s/it]"
     ]
    },
    {
     "name": "stdout",
     "output_type": "stream",
     "text": [
      "[FOLD 02/05] [M 001/001] [E 002/010] : 0.6525 | 0.5882 | 0.6702\n"
     ]
    },
    {
     "name": "stderr",
     "output_type": "stream",
     "text": [
      " 30%|███       | 3/10 [00:09<00:23,  3.30s/it]"
     ]
    },
    {
     "name": "stdout",
     "output_type": "stream",
     "text": [
      "[FOLD 02/05] [M 001/001] [E 003/010] : 0.5830 | 0.5090 | 0.7158\n"
     ]
    },
    {
     "name": "stderr",
     "output_type": "stream",
     "text": [
      " 40%|████      | 4/10 [00:13<00:19,  3.30s/it]"
     ]
    },
    {
     "name": "stdout",
     "output_type": "stream",
     "text": [
      "[FOLD 02/05] [M 001/001] [E 004/010] : 0.5034 | 0.4789 | 0.7469\n"
     ]
    },
    {
     "name": "stderr",
     "output_type": "stream",
     "text": [
      " 50%|█████     | 5/10 [00:16<00:16,  3.30s/it]"
     ]
    },
    {
     "name": "stdout",
     "output_type": "stream",
     "text": [
      "[FOLD 02/05] [M 001/001] [E 005/010] : 0.4356 | 0.4419 | 0.7528\n"
     ]
    },
    {
     "name": "stderr",
     "output_type": "stream",
     "text": [
      " 60%|██████    | 6/10 [00:19<00:13,  3.30s/it]"
     ]
    },
    {
     "name": "stdout",
     "output_type": "stream",
     "text": [
      "[FOLD 02/05] [M 001/001] [E 006/010] : 0.3962 | 0.4258 | 0.7668\n"
     ]
    },
    {
     "name": "stderr",
     "output_type": "stream",
     "text": [
      " 70%|███████   | 7/10 [00:23<00:09,  3.30s/it]"
     ]
    },
    {
     "name": "stdout",
     "output_type": "stream",
     "text": [
      "[FOLD 02/05] [M 001/001] [E 007/010] : 0.3679 | 0.4248 | 0.7665\n"
     ]
    },
    {
     "name": "stderr",
     "output_type": "stream",
     "text": [
      " 80%|████████  | 8/10 [00:26<00:06,  3.30s/it]"
     ]
    },
    {
     "name": "stdout",
     "output_type": "stream",
     "text": [
      "[FOLD 02/05] [M 001/001] [E 008/010] : 0.3483 | 0.4240 | 0.7669\n"
     ]
    },
    {
     "name": "stderr",
     "output_type": "stream",
     "text": [
      " 90%|█████████ | 9/10 [00:29<00:03,  3.30s/it]"
     ]
    },
    {
     "name": "stdout",
     "output_type": "stream",
     "text": [
      "[FOLD 02/05] [M 001/001] [E 009/010] : 0.3334 | 0.4216 | 0.7708\n"
     ]
    },
    {
     "name": "stderr",
     "output_type": "stream",
     "text": [
      "100%|██████████| 10/10 [00:32<00:00,  3.30s/it]"
     ]
    },
    {
     "name": "stdout",
     "output_type": "stream",
     "text": [
      "[FOLD 02/05] [M 001/001] [E 010/010] : 0.3267 | 0.4230 | 0.7705\n"
     ]
    },
    {
     "name": "stderr",
     "output_type": "stream",
     "text": [
      "\n",
      " 10%|█         | 1/10 [00:03<00:30,  3.34s/it]"
     ]
    },
    {
     "name": "stdout",
     "output_type": "stream",
     "text": [
      "[FOLD 03/05] [M 001/001] [E 001/010] : 0.7744 | 0.6488 | 0.6502\n"
     ]
    },
    {
     "name": "stderr",
     "output_type": "stream",
     "text": [
      " 20%|██        | 2/10 [00:06<00:26,  3.34s/it]"
     ]
    },
    {
     "name": "stdout",
     "output_type": "stream",
     "text": [
      "[FOLD 03/05] [M 001/001] [E 002/010] : 0.6464 | 0.6232 | 0.6932\n"
     ]
    },
    {
     "name": "stderr",
     "output_type": "stream",
     "text": [
      " 30%|███       | 3/10 [00:09<00:23,  3.30s/it]"
     ]
    },
    {
     "name": "stdout",
     "output_type": "stream",
     "text": [
      "[FOLD 03/05] [M 001/001] [E 003/010] : 0.5892 | 0.5302 | 0.7241\n"
     ]
    },
    {
     "name": "stderr",
     "output_type": "stream",
     "text": [
      " 40%|████      | 4/10 [00:13<00:19,  3.33s/it]"
     ]
    },
    {
     "name": "stdout",
     "output_type": "stream",
     "text": [
      "[FOLD 03/05] [M 001/001] [E 004/010] : 0.5177 | 0.4768 | 0.7338\n"
     ]
    },
    {
     "name": "stderr",
     "output_type": "stream",
     "text": [
      " 50%|█████     | 5/10 [00:16<00:16,  3.35s/it]"
     ]
    },
    {
     "name": "stdout",
     "output_type": "stream",
     "text": [
      "[FOLD 03/05] [M 001/001] [E 005/010] : 0.4482 | 0.4554 | 0.7375\n"
     ]
    },
    {
     "name": "stderr",
     "output_type": "stream",
     "text": [
      " 60%|██████    | 6/10 [00:20<00:13,  3.34s/it]"
     ]
    },
    {
     "name": "stdout",
     "output_type": "stream",
     "text": [
      "[FOLD 03/05] [M 001/001] [E 006/010] : 0.4089 | 0.4390 | 0.7489\n"
     ]
    },
    {
     "name": "stderr",
     "output_type": "stream",
     "text": [
      " 70%|███████   | 7/10 [00:23<00:10,  3.34s/it]"
     ]
    },
    {
     "name": "stdout",
     "output_type": "stream",
     "text": [
      "[FOLD 03/05] [M 001/001] [E 007/010] : 0.3814 | 0.4260 | 0.7552\n"
     ]
    },
    {
     "name": "stderr",
     "output_type": "stream",
     "text": [
      " 80%|████████  | 8/10 [00:26<00:06,  3.36s/it]"
     ]
    },
    {
     "name": "stdout",
     "output_type": "stream",
     "text": [
      "[FOLD 03/05] [M 001/001] [E 008/010] : 0.3597 | 0.4229 | 0.7596\n"
     ]
    },
    {
     "name": "stderr",
     "output_type": "stream",
     "text": [
      " 90%|█████████ | 9/10 [00:30<00:03,  3.37s/it]"
     ]
    },
    {
     "name": "stdout",
     "output_type": "stream",
     "text": [
      "[FOLD 03/05] [M 001/001] [E 009/010] : 0.3478 | 0.4172 | 0.7629\n"
     ]
    },
    {
     "name": "stderr",
     "output_type": "stream",
     "text": [
      "100%|██████████| 10/10 [00:33<00:00,  3.35s/it]"
     ]
    },
    {
     "name": "stdout",
     "output_type": "stream",
     "text": [
      "[FOLD 03/05] [M 001/001] [E 010/010] : 0.3406 | 0.4186 | 0.7618\n"
     ]
    },
    {
     "name": "stderr",
     "output_type": "stream",
     "text": [
      "\n",
      " 10%|█         | 1/10 [00:03<00:29,  3.25s/it]"
     ]
    },
    {
     "name": "stdout",
     "output_type": "stream",
     "text": [
      "[FOLD 04/05] [M 001/001] [E 001/010] : 0.7621 | 0.6725 | 0.6622\n"
     ]
    },
    {
     "name": "stderr",
     "output_type": "stream",
     "text": [
      " 20%|██        | 2/10 [00:06<00:26,  3.29s/it]"
     ]
    },
    {
     "name": "stdout",
     "output_type": "stream",
     "text": [
      "[FOLD 04/05] [M 001/001] [E 002/010] : 0.6234 | 0.5870 | 0.7150\n"
     ]
    },
    {
     "name": "stderr",
     "output_type": "stream",
     "text": [
      " 30%|███       | 3/10 [00:09<00:23,  3.31s/it]"
     ]
    },
    {
     "name": "stdout",
     "output_type": "stream",
     "text": [
      "[FOLD 04/05] [M 001/001] [E 003/010] : 0.5389 | 0.5389 | 0.7100\n"
     ]
    },
    {
     "name": "stderr",
     "output_type": "stream",
     "text": [
      " 40%|████      | 4/10 [00:13<00:19,  3.32s/it]"
     ]
    },
    {
     "name": "stdout",
     "output_type": "stream",
     "text": [
      "[FOLD 04/05] [M 001/001] [E 004/010] : 0.4619 | 0.4912 | 0.7498\n"
     ]
    },
    {
     "name": "stderr",
     "output_type": "stream",
     "text": [
      " 50%|█████     | 5/10 [00:16<00:16,  3.29s/it]"
     ]
    },
    {
     "name": "stdout",
     "output_type": "stream",
     "text": [
      "[FOLD 04/05] [M 001/001] [E 005/010] : 0.4162 | 0.5010 | 0.7582\n"
     ]
    },
    {
     "name": "stderr",
     "output_type": "stream",
     "text": [
      " 60%|██████    | 6/10 [00:19<00:13,  3.30s/it]"
     ]
    },
    {
     "name": "stdout",
     "output_type": "stream",
     "text": [
      "[FOLD 04/05] [M 001/001] [E 006/010] : 0.3833 | 0.4610 | 0.7633\n"
     ]
    },
    {
     "name": "stderr",
     "output_type": "stream",
     "text": [
      " 70%|███████   | 7/10 [00:23<00:09,  3.28s/it]"
     ]
    },
    {
     "name": "stdout",
     "output_type": "stream",
     "text": [
      "[FOLD 04/05] [M 001/001] [E 007/010] : 0.3581 | 0.4547 | 0.7642\n"
     ]
    },
    {
     "name": "stderr",
     "output_type": "stream",
     "text": [
      " 80%|████████  | 8/10 [00:26<00:06,  3.29s/it]"
     ]
    },
    {
     "name": "stdout",
     "output_type": "stream",
     "text": [
      "[FOLD 04/05] [M 001/001] [E 008/010] : 0.3398 | 0.4508 | 0.7675\n"
     ]
    },
    {
     "name": "stderr",
     "output_type": "stream",
     "text": [
      " 90%|█████████ | 9/10 [00:29<00:03,  3.29s/it]"
     ]
    },
    {
     "name": "stdout",
     "output_type": "stream",
     "text": [
      "[FOLD 04/05] [M 001/001] [E 009/010] : 0.3283 | 0.4518 | 0.7689\n"
     ]
    },
    {
     "name": "stderr",
     "output_type": "stream",
     "text": [
      "100%|██████████| 10/10 [00:32<00:00,  3.29s/it]"
     ]
    },
    {
     "name": "stdout",
     "output_type": "stream",
     "text": [
      "[FOLD 04/05] [M 001/001] [E 010/010] : 0.3211 | 0.4516 | 0.7704\n"
     ]
    },
    {
     "name": "stderr",
     "output_type": "stream",
     "text": [
      "\n",
      " 10%|█         | 1/10 [00:03<00:30,  3.44s/it]"
     ]
    },
    {
     "name": "stdout",
     "output_type": "stream",
     "text": [
      "[FOLD 05/05] [M 001/001] [E 001/010] : 0.7728 | 0.5593 | 0.6356\n"
     ]
    },
    {
     "name": "stderr",
     "output_type": "stream",
     "text": [
      " 20%|██        | 2/10 [00:06<00:27,  3.40s/it]"
     ]
    },
    {
     "name": "stdout",
     "output_type": "stream",
     "text": [
      "[FOLD 05/05] [M 001/001] [E 002/010] : 0.6389 | 0.4985 | 0.6656\n"
     ]
    },
    {
     "name": "stderr",
     "output_type": "stream",
     "text": [
      " 30%|███       | 3/10 [00:10<00:23,  3.42s/it]"
     ]
    },
    {
     "name": "stdout",
     "output_type": "stream",
     "text": [
      "[FOLD 05/05] [M 001/001] [E 003/010] : 0.5540 | 0.4489 | 0.6867\n"
     ]
    },
    {
     "name": "stderr",
     "output_type": "stream",
     "text": [
      " 40%|████      | 4/10 [00:13<00:20,  3.43s/it]"
     ]
    },
    {
     "name": "stdout",
     "output_type": "stream",
     "text": [
      "[FOLD 05/05] [M 001/001] [E 004/010] : 0.4874 | 0.4323 | 0.7007\n"
     ]
    },
    {
     "name": "stderr",
     "output_type": "stream",
     "text": [
      " 50%|█████     | 5/10 [00:17<00:17,  3.40s/it]"
     ]
    },
    {
     "name": "stdout",
     "output_type": "stream",
     "text": [
      "[FOLD 05/05] [M 001/001] [E 005/010] : 0.4281 | 0.4052 | 0.7190\n"
     ]
    },
    {
     "name": "stderr",
     "output_type": "stream",
     "text": [
      " 60%|██████    | 6/10 [00:20<00:13,  3.39s/it]"
     ]
    },
    {
     "name": "stdout",
     "output_type": "stream",
     "text": [
      "[FOLD 05/05] [M 001/001] [E 006/010] : 0.3911 | 0.4012 | 0.7165\n"
     ]
    },
    {
     "name": "stderr",
     "output_type": "stream",
     "text": [
      " 70%|███████   | 7/10 [00:23<00:10,  3.38s/it]"
     ]
    },
    {
     "name": "stdout",
     "output_type": "stream",
     "text": [
      "[FOLD 05/05] [M 001/001] [E 007/010] : 0.3644 | 0.3973 | 0.7281\n"
     ]
    },
    {
     "name": "stderr",
     "output_type": "stream",
     "text": [
      " 80%|████████  | 8/10 [00:27<00:06,  3.39s/it]"
     ]
    },
    {
     "name": "stdout",
     "output_type": "stream",
     "text": [
      "[FOLD 05/05] [M 001/001] [E 008/010] : 0.3453 | 0.3912 | 0.7257\n"
     ]
    },
    {
     "name": "stderr",
     "output_type": "stream",
     "text": [
      " 90%|█████████ | 9/10 [00:30<00:03,  3.40s/it]"
     ]
    },
    {
     "name": "stdout",
     "output_type": "stream",
     "text": [
      "[FOLD 05/05] [M 001/001] [E 009/010] : 0.3318 | 0.3905 | 0.7268\n"
     ]
    },
    {
     "name": "stderr",
     "output_type": "stream",
     "text": [
      "100%|██████████| 10/10 [00:33<00:00,  3.40s/it]"
     ]
    },
    {
     "name": "stdout",
     "output_type": "stream",
     "text": [
      "[FOLD 05/05] [M 001/001] [E 010/010] : 0.3251 | 0.3915 | 0.7276\n"
     ]
    },
    {
     "name": "stderr",
     "output_type": "stream",
     "text": [
      "\n"
     ]
    }
   ],
   "source": [
    "# TRAINING & VALIDATION\n",
    "# preds = np.zeros((n_models, test_y.size(0)))\n",
    "\n",
    "for m in range(n_models):\n",
    "\n",
    "    random_seed = m\n",
    "\n",
    "    torch.manual_seed(random_seed)\n",
    "    torch.cuda.manual_seed(random_seed)\n",
    "    torch.cuda.manual_seed_all(random_seed)\n",
    "    np.random.seed(random_seed)\n",
    "\n",
    "    for fold in range(5):\n",
    "        model = GeneInteractionModel(hidden_size=hidden_size, num_layers=n_layers).to(device)\n",
    "\n",
    "        train_set = GeneFeatureDataset(g_train, x_train, y_train, fold, 'train', train_fold)\n",
    "        valid_set = GeneFeatureDataset(g_train, x_train, y_train, fold, 'valid', train_fold)\n",
    "\n",
    "        train_loader = DataLoader(dataset=train_set, batch_size=batch_size, shuffle=True, num_workers=0)\n",
    "        valid_loader = DataLoader(dataset=valid_set, batch_size=batch_size, shuffle=True, num_workers=0)\n",
    "\n",
    "        criterion = nn.MSELoss()\n",
    "        optimizer = torch.optim.AdamW(\n",
    "            model.parameters(), lr=learning_rate, weight_decay=weight_decay)\n",
    "        scheduler = torch.optim.lr_scheduler.CosineAnnealingWarmRestarts(\n",
    "            optimizer, T_0=T_0, T_mult=T_mult, eta_min=learning_rate/100)\n",
    "\n",
    "        n_iters = len(train_loader)\n",
    "\n",
    "        for epoch in tqdm(range(n_epochs)):\n",
    "            train_loss, valid_loss = [], []\n",
    "            train_count, valid_count = 0, 0\n",
    "\n",
    "            model.train()\n",
    "\n",
    "            for i, (g, x, y) in enumerate(train_loader):\n",
    "                g = torch.permute(g, (0, 3, 1, 2))\n",
    "                y = y.reshape(-1, 1)\n",
    "\n",
    "                pred = model(g, x)\n",
    "                loss = criterion(pred, y)\n",
    "\n",
    "                optimizer.zero_grad()\n",
    "                loss.backward()\n",
    "                optimizer.step()\n",
    "                scheduler.step(epoch + i / n_iters)\n",
    "\n",
    "                train_loss.append(x.size(0) * loss.detach().cpu().numpy())\n",
    "                train_count += x.size(0)\n",
    "\n",
    "            model.eval()\n",
    "\n",
    "            pred_, y_ = None, None\n",
    "\n",
    "            with torch.no_grad():\n",
    "                for i, (g, x, y) in enumerate(valid_loader):\n",
    "                    g = torch.permute(g, (0, 3, 1, 2))\n",
    "                    y = y.reshape(-1, 1)\n",
    "\n",
    "                    pred = model(g, x)\n",
    "                    loss = criterion(pred, y)\n",
    "                    \n",
    "                    valid_loss.append(x.size(0) * loss.detach().cpu().numpy())\n",
    "                    valid_count += x.size(0)\n",
    "\n",
    "                    if pred_ is None:\n",
    "                        pred_ = pred.detach().cpu().numpy()\n",
    "                        y_ = y.detach().cpu().numpy()\n",
    "                    else:\n",
    "                        pred_ = np.concatenate((pred_, pred.detach().cpu().numpy()))\n",
    "                        y_ = np.concatenate((y_, y.detach().cpu().numpy()))\n",
    "\n",
    "\n",
    "            train_loss = sum(train_loss) / train_count\n",
    "            valid_loss = sum(valid_loss) / valid_count\n",
    "\n",
    "            SPR = scipy.stats.spearmanr(pred_, y_).correlation\n",
    "\n",
    "            print('[FOLD {:02}/{:02}] [M {:03}/{:03}] [E {:03}/{:03}] : {:.4f} | {:.4f} | {:.4f}'.format(fold + 1, 5, m + 1,\n",
    "                n_models, epoch + 1, n_epochs, train_loss, valid_loss, SPR))"
   ]
  },
  {
   "cell_type": "code",
   "execution_count": null,
   "metadata": {},
   "outputs": [],
   "source": []
  }
 ],
 "metadata": {
  "interpreter": {
   "hash": "6a7613cd914eed0861a71d3563e174029307b7234eceeeb943f9e4e2446ab66f"
  },
  "kernelspec": {
   "display_name": "Python 3.8.12 ('gene')",
   "language": "python",
   "name": "python3"
  },
  "language_info": {
   "codemirror_mode": {
    "name": "ipython",
    "version": 3
   },
   "file_extension": ".py",
   "mimetype": "text/x-python",
   "name": "python",
   "nbconvert_exporter": "python",
   "pygments_lexer": "ipython3",
   "version": "3.7.11"
  },
  "orig_nbformat": 4
 },
 "nbformat": 4,
 "nbformat_minor": 2
}
