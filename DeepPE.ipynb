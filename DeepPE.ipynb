{
 "cells": [
  {
   "cell_type": "code",
   "execution_count": 29,
   "metadata": {},
   "outputs": [],
   "source": [
    "import sys\n",
    "import os\n",
    "import math\n",
    "\n",
    "import numpy as np\n",
    "from numpy.random import shuffle\n",
    "import scipy\n",
    "import pandas as pd\n",
    "\n",
    "from typing import Tuple\n",
    "\n",
    "import torch\n",
    "import torch.nn.functional as F\n",
    "import torch.nn as nn\n",
    "import torch.optim as optim\n",
    "\n",
    "from torch.utils.data import Dataset, TensorDataset, DataLoader\n",
    "from torch.utils.data.sampler import Sampler, SequentialSampler\n",
    "from torch.backends import cudnn\n",
    "from sklearn.model_selection import train_test_split, KFold\n",
    "\n",
    "from tqdm import tqdm\n",
    "import plot\n",
    "import seaborn as sns\n",
    "\n",
    "import wandb\n",
    "\n",
    "device = 'cuda:0' if torch.cuda.is_available() else 'cpu'\n",
    "\n",
    "torch.backends.cudnn.deterministic = True\n",
    "torch.backends.cudnn.benchmark = False\n"
   ]
  },
  {
   "cell_type": "code",
   "execution_count": 30,
   "metadata": {},
   "outputs": [],
   "source": [
    "class GeneInteractionModel(nn.Module):\n",
    "\n",
    "    def __init__(self, hidden_size, num_layers):\n",
    "        super(GeneInteractionModel, self).__init__()\n",
    "        self.hidden_size = hidden_size\n",
    "        self.num_layers = num_layers\n",
    "\n",
    "        self.c1 = nn.Sequential(\n",
    "            nn.Conv2d(in_channels=4, out_channels=72,\n",
    "                      kernel_size=(2, 3), stride=1, padding=(0, 1)),\n",
    "            nn.GELU(),\n",
    "        )\n",
    "        self.c2 = nn.Sequential(\n",
    "            nn.Conv1d(in_channels=72, out_channels=64,\n",
    "                      kernel_size=3, stride=1, padding=1),\n",
    "            nn.GELU(),\n",
    "            nn.AvgPool1d(kernel_size=2, stride=2),\n",
    "\n",
    "            nn.Conv1d(in_channels=64, out_channels=64,\n",
    "                      kernel_size=3, stride=1, padding=1),\n",
    "            nn.GELU(),\n",
    "            nn.AvgPool1d(kernel_size=2, stride=2),\n",
    "\n",
    "            nn.Conv1d(in_channels=64, out_channels=96,\n",
    "                      kernel_size=3, stride=1, padding=1),\n",
    "            nn.GELU(),\n",
    "            nn.AvgPool1d(kernel_size=2, stride=2),\n",
    "        )\n",
    "\n",
    "        self.r = nn.GRU(96, hidden_size, num_layers,\n",
    "                        batch_first=True, bidirectional=True)\n",
    "\n",
    "        self.s = nn.Linear(2 * hidden_size, 24, bias=False)\n",
    "        \n",
    "        self.d = nn.Sequential(\n",
    "            nn.Linear(27, 96, bias=False),\n",
    "            nn.ReLU(),\n",
    "            nn.Dropout(0.5),\n",
    "            nn.Linear(96, 32, bias=False), \n",
    "            nn.ReLU(),\n",
    "            nn.Dropout(0.5),\n",
    "            nn.Linear(32, 64, bias=False)\n",
    "        )\n",
    "\n",
    "        self.head = nn.Sequential(\n",
    "            # nn.ReLU(),\n",
    "            nn.Dropout(0.25),\n",
    "            nn.Linear(88, 1, bias=True),\n",
    "        )\n",
    "\n",
    "    def forward(self, g, x):\n",
    "        g = torch.squeeze(self.c1(g), 2)\n",
    "        g = self.c2(g)\n",
    "        g, _ = self.r(torch.transpose(g, 1, 2))\n",
    "        g = self.s(g[:, -1, :])\n",
    "        \n",
    "        x = self.d(x)\n",
    "\n",
    "        out = self.head(torch.cat((g, x), dim=1))\n",
    "\n",
    "        return out\n"
   ]
  },
  {
   "cell_type": "code",
   "execution_count": 31,
   "metadata": {},
   "outputs": [],
   "source": [
    "class GeneFeatureDataset(Dataset):\n",
    "\n",
    "    def __init__(\n",
    "        self,\n",
    "        gene: torch.Tensor = None,\n",
    "        features: torch.Tensor = None,\n",
    "        target: torch.Tensor = None,\n",
    "        fold: int = None,\n",
    "        mode: str = 'train',\n",
    "        fold_list: np.ndarray = None,\n",
    "    ):\n",
    "        self.fold = fold\n",
    "        self.mode = mode\n",
    "        self.fold_list = fold_list\n",
    "\n",
    "        if self.fold_list is not None:\n",
    "            self.indices = self._select_fold()\n",
    "            self.gene = gene[self.indices]\n",
    "            self.features = features[self.indices]\n",
    "            self.target = target[self.indices]\n",
    "        else:\n",
    "            self.gene = gene\n",
    "            self.features = features\n",
    "            self.target = target\n",
    "\n",
    "    def _select_fold(self):\n",
    "        selected_indices = []\n",
    "\n",
    "        if self.mode == 'valid':  # SELECT A SINGLE GROUP\n",
    "            for i in range(len(self.fold_list)):\n",
    "                if self.fold_list[i] == self.fold:\n",
    "                    selected_indices.append(i)\n",
    "        elif self.mode == 'train':  # SELECT OTHERS\n",
    "            for i in range(len(self.fold_list)):\n",
    "                if self.fold_list[i] != self.fold:\n",
    "                    selected_indices.append(i)\n",
    "        else:  # FOR FINALIZING\n",
    "            for i in range(len(self.fold_list)):\n",
    "                selected_indices.append(i)\n",
    "\n",
    "        return selected_indices\n",
    "\n",
    "    def __len__(self):\n",
    "        return len(self.gene)\n",
    "\n",
    "    def __getitem__(self, idx: int) -> Tuple[torch.Tensor, torch.Tensor]:\n",
    "        gene = self.gene[idx]\n",
    "        features = self.features[idx]\n",
    "        target = self.target[idx]\n",
    "\n",
    "        return gene, features, target\n"
   ]
  },
  {
   "cell_type": "code",
   "execution_count": 32,
   "metadata": {},
   "outputs": [],
   "source": [
    "def preprocess_seq(data):\n",
    "    print(\"Start preprocessing the sequence done 2d\")\n",
    "    length = 74\n",
    "\n",
    "    DATA_X = np.zeros((len(data), 1, length, 4), dtype=float)\n",
    "    print(np.shape(data), len(data), length)\n",
    "    for l in tqdm(range(len(data))):\n",
    "        for i in range(length):\n",
    "\n",
    "            try:\n",
    "                data[l][i]\n",
    "            except:\n",
    "                print(data[l], i, length, len(data))\n",
    "\n",
    "            if data[l][i] in \"Aa\":\n",
    "                DATA_X[l, 0, i, 0] = 1\n",
    "            elif data[l][i] in \"Cc\":\n",
    "                DATA_X[l, 0, i, 1] = 1\n",
    "            elif data[l][i] in \"Gg\":\n",
    "                DATA_X[l, 0, i, 2] = 1\n",
    "            elif data[l][i] in \"Tt\":\n",
    "                DATA_X[l, 0, i, 3] = 1\n",
    "            elif data[l][i] in \"Xx\":\n",
    "                pass\n",
    "            else:\n",
    "                print(\"Non-ATGC character \" + data[l])\n",
    "                print(i)\n",
    "                print(data[l][i])\n",
    "                sys.exit()\n",
    "\n",
    "    print(\"Preprocessed the sequence\")\n",
    "    return DATA_X\n"
   ]
  },
  {
   "cell_type": "code",
   "execution_count": 33,
   "metadata": {},
   "outputs": [],
   "source": [
    "def seq_concat(data):\n",
    "    wt = preprocess_seq(data.WT74_On)\n",
    "    ed = preprocess_seq(data.Edited74_On)\n",
    "    g = np.concatenate((wt, ed), axis=1)\n",
    "    g = 2 * g - 1\n",
    "\n",
    "    return g\n"
   ]
  },
  {
   "cell_type": "code",
   "execution_count": 34,
   "metadata": {},
   "outputs": [],
   "source": [
    "train_PECV = pd.read_csv('data/DeepPrime_PECV__train_220214.csv')\n",
    "test_PECV = pd.read_csv('data/DeepPrime_PECV__test_220214.csv')\n",
    "train_PF = pd.read_csv('data/Biofeature_output_Profiling_220205_PE_effi_for_CYM.csv')\n"
   ]
  },
  {
   "cell_type": "code",
   "execution_count": 43,
   "metadata": {},
   "outputs": [
    {
     "name": "stdout",
     "output_type": "stream",
     "text": [
      "Start preprocessing the sequence done 2d\n",
      "(23750,) 23750 74\n"
     ]
    },
    {
     "name": "stderr",
     "output_type": "stream",
     "text": [
      "100%|██████████| 23750/23750 [00:10<00:00, 2167.85it/s]\n"
     ]
    },
    {
     "name": "stdout",
     "output_type": "stream",
     "text": [
      "Preprocessed the sequence\n",
      "Start preprocessing the sequence done 2d\n",
      "(23750,) 23750 74\n"
     ]
    },
    {
     "name": "stderr",
     "output_type": "stream",
     "text": [
      "100%|██████████| 23750/23750 [00:14<00:00, 1586.18it/s]\n"
     ]
    },
    {
     "name": "stdout",
     "output_type": "stream",
     "text": [
      "Preprocessed the sequence\n"
     ]
    }
   ],
   "source": [
    "# PREPROCESS GENES\n",
    "\n",
    "if not os.path.isfile('data/g_train.npy'):\n",
    "    g_train = seq_concat(train_PECV)\n",
    "    np.save('data/g_train.npy', g_train)\n",
    "else:\n",
    "    g_train = np.load('data/g_train.npy')\n",
    "\n",
    "if not os.path.isfile('data/g_test.npy'):\n",
    "    g_test = seq_concat(test_PECV)\n",
    "    np.save('data/g_test.npy', g_test)\n",
    "else:\n",
    "    g_test = np.load('data/g_test.npy')\n",
    "\n",
    "if not os.path.isfile('data/g_pf.npy'):\n",
    "    g_pf = seq_concat(train_PF)\n",
    "    np.save('data/g_pf.npy', g_pf)\n",
    "else:\n",
    "    g_pf = np.load('data/g_pf.npy')\n"
   ]
  },
  {
   "cell_type": "code",
   "execution_count": 44,
   "metadata": {},
   "outputs": [],
   "source": [
    "# FEATURE SELECTION\n",
    "\n",
    "train_features = train_PECV.loc[:, ['PBSlen', 'RTlen', 'RT-PBSlen', 'Edit_pos', 'Edit_len', 'RHA_len', 'type_sub',\n",
    "                                    'type_ins', 'type_del', 'Tm1', 'Tm2', 'Tm2new', 'Tm3', 'Tm4', 'TmD',\n",
    "                                    'nGCcnt1', 'nGCcnt2', 'nGCcnt3', 'fGCcont1', 'fGCcont2', 'fGCcont3',\n",
    "                                    'MFE1', 'MFE2', 'MFE3', 'MFE4', 'MFE5', 'DeepSpCas9_score']]\n",
    "train_fold = train_PECV.Fold\n",
    "train_target = train_PECV.Measured_PE_efficiency\n",
    "\n",
    "test_features = test_PECV.loc[:, ['PBSlen', 'RTlen', 'RT-PBSlen', 'Edit_pos', 'Edit_len', 'RHA_len', 'type_sub',\n",
    "                                  'type_ins', 'type_del', 'Tm1', 'Tm2', 'Tm2new', 'Tm3', 'Tm4', 'TmD',\n",
    "                                  'nGCcnt1', 'nGCcnt2', 'nGCcnt3', 'fGCcont1', 'fGCcont2', 'fGCcont3',\n",
    "                                  'MFE1', 'MFE2', 'MFE3', 'MFE4', 'MFE5', 'DeepSpCas9_score']]\n",
    "test_target = test_PECV.Measured_PE_efficiency\n",
    "\n",
    "pf_features = train_PF.loc[:, ['PBSlen', 'RTlen', 'RT-PBSlen', 'Edit_pos', 'Edit_len', 'RHA_len', 'type_sub',\n",
    "                               'type_ins', 'type_del', 'Tm1', 'Tm2', 'Tm2new', 'Tm3', 'Tm4', 'TmD',\n",
    "                               'nGCcnt1', 'nGCcnt2', 'nGCcnt3', 'fGCcont1', 'fGCcont2', 'fGCcont3',\n",
    "                               'MFE1', 'MFE2', 'MFE3', 'MFE4', 'MFE5', 'DeepSpCas9_score']]\n",
    "pf_target = train_PF.Measured_PE_efficiency\n"
   ]
  },
  {
   "cell_type": "code",
   "execution_count": 45,
   "metadata": {},
   "outputs": [],
   "source": [
    "# NORMALIZATION\n",
    "\n",
    "x_train = (train_features - train_features.mean()) / train_features.std()\n",
    "y_train = (train_target - train_target.mean()) / train_target.std()\n",
    "x_train = x_train.to_numpy()\n",
    "y_train = y_train.to_numpy()\n",
    "\n",
    "x_test = (test_features - train_features.mean()) / train_features.std()\n",
    "y_test = (test_target - train_target.mean()) / train_target.std()\n",
    "x_test = x_test.to_numpy()\n",
    "y_test = y_test.to_numpy()\n",
    "\n",
    "x_pf = (pf_features - train_features.mean()) / train_features.std()\n",
    "y_pf = (pf_target - train_target.mean()) / train_target.std()\n",
    "x_pf = x_pf.to_numpy()\n",
    "y_pf = y_pf.to_numpy()\n",
    "\n",
    "g_train = torch.tensor(g_train, dtype=torch.float32, device=device)\n",
    "x_train = torch.tensor(x_train, dtype=torch.float32, device=device)\n",
    "y_train = torch.tensor(y_train, dtype=torch.float32, device=device)\n",
    "\n",
    "g_test = torch.tensor(g_test, dtype=torch.float32, device=device)\n",
    "x_test = torch.tensor(x_test, dtype=torch.float32, device=device)\n",
    "y_test = torch.tensor(y_test, dtype=torch.float32, device=device)\n",
    "\n",
    "g_pf = torch.tensor(g_pf, dtype=torch.float32, device=device)\n",
    "x_pf = torch.tensor(x_pf, dtype=torch.float32, device=device)\n",
    "y_pf = torch.tensor(y_pf, dtype=torch.float32, device=device)\n"
   ]
  },
  {
   "cell_type": "code",
   "execution_count": 46,
   "metadata": {},
   "outputs": [],
   "source": [
    "# PARAMS\n",
    "\n",
    "batch_size = 2048\n",
    "learning_rate = 4e-3\n",
    "weight_decay = 1e-2\n",
    "T_0 = 12\n",
    "T_mult = 1\n",
    "hidden_size = 128\n",
    "n_layers = 1\n",
    "n_epochs = 10\n",
    "n_models = 5"
   ]
  },
  {
   "cell_type": "code",
   "execution_count": 47,
   "metadata": {},
   "outputs": [],
   "source": [
    "def finetune_model(model, fold, pf_loader, valid_loader):\n",
    "\n",
    "    # PARAMETERS FOR FINETUNING\n",
    "\n",
    "    learning_rate = 2e-5\n",
    "    weight_decay = 1e-4\n",
    "    T_0 = 10\n",
    "    T_mult = 1\n",
    "    n_epochs = 10\n",
    "    \n",
    "    best_score = [0, 0, 0]\n",
    "\n",
    "    # for name, param in model.named_parameters():\n",
    "    #     if param.requires_grad and name.startswith('c') or name.startswith('r'):\n",
    "    #         param.requires_grad = False # LOCK THE GENE ABSTRACTION MODULE\n",
    "\n",
    "    criterion = nn.MSELoss()\n",
    "    optimizer = torch.optim.AdamW(\n",
    "        model.parameters(), lr=learning_rate, weight_decay=weight_decay)\n",
    "    scheduler = torch.optim.lr_scheduler.CosineAnnealingWarmRestarts(\n",
    "        optimizer, T_0=T_0, T_mult=T_mult, eta_min=learning_rate/100)\n",
    "\n",
    "    n_iters = len(pf_loader)\n",
    "\n",
    "    for epoch in tqdm(range(n_epochs)):\n",
    "        train_loss, valid_loss = [], []\n",
    "        train_count, valid_count = 0, 0\n",
    "\n",
    "        model.train()\n",
    "\n",
    "        for i, (g, x, y) in enumerate(pf_loader):\n",
    "            g = torch.permute(g, (0, 3, 1, 2))\n",
    "            y = y.reshape(-1, 1)\n",
    "\n",
    "            pred = model(g, x)\n",
    "            loss = criterion(pred, y)\n",
    "\n",
    "            optimizer.zero_grad()\n",
    "            loss.backward()\n",
    "            optimizer.step()\n",
    "            scheduler.step(epoch + i / n_iters)\n",
    "\n",
    "            train_loss.append(x.size(0) * loss.detach().cpu().numpy())\n",
    "            train_count += x.size(0)\n",
    "\n",
    "        model.eval()\n",
    "\n",
    "        pred_, y_ = None, None\n",
    "\n",
    "        with torch.no_grad():\n",
    "            for i, (g, x, y) in enumerate(valid_loader):\n",
    "                g = torch.permute(g, (0, 3, 1, 2))\n",
    "                y = y.reshape(-1, 1)\n",
    "\n",
    "                pred = model(g, x)\n",
    "                loss = criterion(pred, y)\n",
    "\n",
    "                valid_loss.append(x.size(0) * loss.detach().cpu().numpy())\n",
    "                valid_count += x.size(0)\n",
    "\n",
    "                if pred_ is None:\n",
    "                    pred_ = pred.detach().cpu().numpy()\n",
    "                    y_ = y.detach().cpu().numpy()\n",
    "                else:\n",
    "                    pred_ = np.concatenate(\n",
    "                        (pred_, pred.detach().cpu().numpy()))\n",
    "                    y_ = np.concatenate((y_, y.detach().cpu().numpy()))\n",
    "\n",
    "        train_loss = sum(train_loss) / train_count\n",
    "        valid_loss = sum(valid_loss) / valid_count\n",
    "\n",
    "        SPR = scipy.stats.spearmanr(pred_, y_).correlation\n",
    "\n",
    "        if SPR > best_score[2]:\n",
    "                best_score = [train_loss, valid_loss, SPR]\n",
    "\n",
    "                torch.save(model.state_dict(), 'models/final/F{:02}_auxiliary.pt'.format(fold + 1))\n",
    "\n",
    "        print('FINETUNING: [FOLD {:02}/{:02}] [E {:03}/{:03}] : {:.4f} | {:.4f} | {:.4f}'.format(\n",
    "            fold + 1, 5, epoch + 1, n_epochs, train_loss, valid_loss, SPR))\n",
    "\n",
    "    os.rename('models/final/F{:02}_auxiliary.pt'.format(fold + 1), 'models/final/F{:02}.pt'.format(fold + 1))\n",
    "    \n",
    "    return model\n"
   ]
  },
  {
   "cell_type": "code",
   "execution_count": null,
   "metadata": {},
   "outputs": [],
   "source": [
    "# TRAINING & VALIDATION\n",
    "\n",
    "for m in range(n_models):\n",
    "\n",
    "    random_seed = m\n",
    "\n",
    "    torch.manual_seed(random_seed)\n",
    "    torch.cuda.manual_seed(random_seed)\n",
    "    torch.cuda.manual_seed_all(random_seed)\n",
    "    np.random.seed(random_seed)\n",
    "\n",
    "    for fold in range(5):\n",
    "\n",
    "        best_score = [0, 0, 0]\n",
    "\n",
    "        model = GeneInteractionModel(\n",
    "            hidden_size=hidden_size, num_layers=n_layers).to(device)\n",
    "\n",
    "        train_set = GeneFeatureDataset(\n",
    "            g_train, x_train, y_train, fold, 'train', train_fold)\n",
    "        valid_set = GeneFeatureDataset(\n",
    "            g_train, x_train, y_train, fold, 'valid', train_fold)\n",
    "        pf_set = GeneFeatureDataset(g_pf, x_pf, y_pf, None, 'train', None)\n",
    "\n",
    "        train_loader = DataLoader(\n",
    "            dataset=train_set, batch_size=batch_size, shuffle=True, num_workers=0)\n",
    "        valid_loader = DataLoader(\n",
    "            dataset=valid_set, batch_size=batch_size, shuffle=True, num_workers=0)\n",
    "        pf_loader = DataLoader(\n",
    "            dataset=pf_set, batch_size=batch_size, shuffle=True, num_workers=0)\n",
    "\n",
    "        criterion = nn.MSELoss()\n",
    "        optimizer = torch.optim.AdamW(\n",
    "            model.parameters(), lr=learning_rate, weight_decay=weight_decay)\n",
    "        scheduler = torch.optim.lr_scheduler.CosineAnnealingWarmRestarts(\n",
    "            optimizer, T_0=T_0, T_mult=T_mult, eta_min=learning_rate/100)\n",
    "\n",
    "        n_iters = len(train_loader)\n",
    "\n",
    "        for epoch in tqdm(range(n_epochs)):\n",
    "            train_loss, valid_loss = [], []\n",
    "            train_count, valid_count = 0, 0\n",
    "\n",
    "            model.train()\n",
    "\n",
    "            for i, (g, x, y) in enumerate(train_loader):\n",
    "                g = torch.permute(g, (0, 3, 1, 2))\n",
    "                y = y.reshape(-1, 1)\n",
    "\n",
    "                pred = model(g, x)\n",
    "                loss = criterion(pred, y)\n",
    "\n",
    "                optimizer.zero_grad()\n",
    "                loss.backward()\n",
    "                optimizer.step()\n",
    "                scheduler.step(epoch + i / n_iters)\n",
    "\n",
    "                train_loss.append(x.size(0) * loss.detach().cpu().numpy())\n",
    "                train_count += x.size(0)\n",
    "\n",
    "            model.eval()\n",
    "\n",
    "            pred_, y_ = None, None\n",
    "\n",
    "            with torch.no_grad():\n",
    "                for i, (g, x, y) in enumerate(valid_loader):\n",
    "                    g = torch.permute(g, (0, 3, 1, 2))\n",
    "                    y = y.reshape(-1, 1)\n",
    "\n",
    "                    pred = model(g, x)\n",
    "                    loss = criterion(pred, y)\n",
    "\n",
    "                    valid_loss.append(x.size(0) * loss.detach().cpu().numpy())\n",
    "                    valid_count += x.size(0)\n",
    "\n",
    "                    if pred_ is None:\n",
    "                        pred_ = pred.detach().cpu().numpy()\n",
    "                        y_ = y.detach().cpu().numpy()\n",
    "                    else:\n",
    "                        pred_ = np.concatenate(\n",
    "                            (pred_, pred.detach().cpu().numpy()))\n",
    "                        y_ = np.concatenate((y_, y.detach().cpu().numpy()))\n",
    "\n",
    "            train_loss = sum(train_loss) / train_count\n",
    "            valid_loss = sum(valid_loss) / valid_count\n",
    "\n",
    "            SPR = scipy.stats.spearmanr(pred_, y_).correlation\n",
    "\n",
    "            if SPR > best_score[2]:\n",
    "                best_score = [train_loss, valid_loss, SPR]\n",
    "\n",
    "                torch.save(model.state_dict(), 'models/F{:02}_auxiliary.pt'.format(fold + 1))\n",
    "\n",
    "\n",
    "            print('[FOLD {:02}/{:02}] [M {:03}/{:03}] [E {:03}/{:03}] : {:.4f} | {:.4f} | {:.4f}'.format(fold + 1, 5, m + 1,\n",
    "                                                                                                         n_models, epoch + 1, n_epochs, train_loss, valid_loss, SPR))\n",
    "        \n",
    "        os.rename('models/F{:02}_auxiliary.pt'.format(fold + 1), 'models/F{:02}_{:.4f}.pt'.format(fold + 1, best_score[2]))"
   ]
  },
  {
   "cell_type": "code",
   "execution_count": 53,
   "metadata": {},
   "outputs": [
    {
     "name": "stderr",
     "output_type": "stream",
     "text": [
      " 10%|█         | 1/10 [00:00<00:07,  1.13it/s]"
     ]
    },
    {
     "name": "stdout",
     "output_type": "stream",
     "text": [
      "FINETUNING: [FOLD 01/05] [E 001/010] : 1.2296 | 0.4156 | 0.7757\n"
     ]
    },
    {
     "name": "stderr",
     "output_type": "stream",
     "text": [
      " 20%|██        | 2/10 [00:01<00:07,  1.12it/s]"
     ]
    },
    {
     "name": "stdout",
     "output_type": "stream",
     "text": [
      "FINETUNING: [FOLD 01/05] [E 002/010] : 1.1860 | 0.4167 | 0.7765\n"
     ]
    },
    {
     "name": "stderr",
     "output_type": "stream",
     "text": [
      " 30%|███       | 3/10 [00:02<00:06,  1.11it/s]"
     ]
    },
    {
     "name": "stdout",
     "output_type": "stream",
     "text": [
      "FINETUNING: [FOLD 01/05] [E 003/010] : 1.1467 | 0.4189 | 0.7769\n"
     ]
    },
    {
     "name": "stderr",
     "output_type": "stream",
     "text": [
      " 40%|████      | 4/10 [00:03<00:05,  1.11it/s]"
     ]
    },
    {
     "name": "stdout",
     "output_type": "stream",
     "text": [
      "FINETUNING: [FOLD 01/05] [E 004/010] : 1.1255 | 0.4199 | 0.7772\n"
     ]
    },
    {
     "name": "stderr",
     "output_type": "stream",
     "text": [
      " 50%|█████     | 5/10 [00:04<00:04,  1.11it/s]"
     ]
    },
    {
     "name": "stdout",
     "output_type": "stream",
     "text": [
      "FINETUNING: [FOLD 01/05] [E 005/010] : 1.1092 | 0.4207 | 0.7774\n"
     ]
    },
    {
     "name": "stderr",
     "output_type": "stream",
     "text": [
      " 60%|██████    | 6/10 [00:05<00:03,  1.11it/s]"
     ]
    },
    {
     "name": "stdout",
     "output_type": "stream",
     "text": [
      "FINETUNING: [FOLD 01/05] [E 006/010] : 1.0917 | 0.4211 | 0.7775\n"
     ]
    },
    {
     "name": "stderr",
     "output_type": "stream",
     "text": [
      " 70%|███████   | 7/10 [00:06<00:02,  1.11it/s]"
     ]
    },
    {
     "name": "stdout",
     "output_type": "stream",
     "text": [
      "FINETUNING: [FOLD 01/05] [E 007/010] : 1.0838 | 0.4215 | 0.7776\n"
     ]
    },
    {
     "name": "stderr",
     "output_type": "stream",
     "text": [
      " 80%|████████  | 8/10 [00:07<00:01,  1.11it/s]"
     ]
    },
    {
     "name": "stdout",
     "output_type": "stream",
     "text": [
      "FINETUNING: [FOLD 01/05] [E 008/010] : 1.0790 | 0.4216 | 0.7776\n"
     ]
    },
    {
     "name": "stderr",
     "output_type": "stream",
     "text": [
      " 90%|█████████ | 9/10 [00:08<00:00,  1.11it/s]"
     ]
    },
    {
     "name": "stdout",
     "output_type": "stream",
     "text": [
      "FINETUNING: [FOLD 01/05] [E 009/010] : 1.0766 | 0.4216 | 0.7776\n"
     ]
    },
    {
     "name": "stderr",
     "output_type": "stream",
     "text": [
      "100%|██████████| 10/10 [00:09<00:00,  1.11it/s]"
     ]
    },
    {
     "name": "stdout",
     "output_type": "stream",
     "text": [
      "FINETUNING: [FOLD 01/05] [E 010/010] : 1.0766 | 0.4216 | 0.7776\n"
     ]
    },
    {
     "name": "stderr",
     "output_type": "stream",
     "text": [
      "\n",
      " 10%|█         | 1/10 [00:00<00:08,  1.12it/s]"
     ]
    },
    {
     "name": "stdout",
     "output_type": "stream",
     "text": [
      "FINETUNING: [FOLD 02/05] [E 001/010] : 1.1672 | 0.4189 | 0.7773\n"
     ]
    },
    {
     "name": "stderr",
     "output_type": "stream",
     "text": [
      " 20%|██        | 2/10 [00:01<00:06,  1.14it/s]"
     ]
    },
    {
     "name": "stdout",
     "output_type": "stream",
     "text": [
      "FINETUNING: [FOLD 02/05] [E 002/010] : 1.1312 | 0.4253 | 0.7775\n"
     ]
    },
    {
     "name": "stderr",
     "output_type": "stream",
     "text": [
      " 30%|███       | 3/10 [00:02<00:06,  1.15it/s]"
     ]
    },
    {
     "name": "stdout",
     "output_type": "stream",
     "text": [
      "FINETUNING: [FOLD 02/05] [E 003/010] : 1.1121 | 0.4284 | 0.7775\n"
     ]
    },
    {
     "name": "stderr",
     "output_type": "stream",
     "text": [
      " 40%|████      | 4/10 [00:03<00:05,  1.19it/s]"
     ]
    },
    {
     "name": "stdout",
     "output_type": "stream",
     "text": [
      "FINETUNING: [FOLD 02/05] [E 004/010] : 1.0918 | 0.4300 | 0.7775\n"
     ]
    },
    {
     "name": "stderr",
     "output_type": "stream",
     "text": [
      " 50%|█████     | 5/10 [00:04<00:04,  1.18it/s]"
     ]
    },
    {
     "name": "stdout",
     "output_type": "stream",
     "text": [
      "FINETUNING: [FOLD 02/05] [E 005/010] : 1.0713 | 0.4310 | 0.7775\n"
     ]
    },
    {
     "name": "stderr",
     "output_type": "stream",
     "text": [
      " 60%|██████    | 6/10 [00:05<00:03,  1.18it/s]"
     ]
    },
    {
     "name": "stdout",
     "output_type": "stream",
     "text": [
      "FINETUNING: [FOLD 02/05] [E 006/010] : 1.0733 | 0.4316 | 0.7775\n"
     ]
    },
    {
     "name": "stderr",
     "output_type": "stream",
     "text": [
      " 70%|███████   | 7/10 [00:05<00:02,  1.17it/s]"
     ]
    },
    {
     "name": "stdout",
     "output_type": "stream",
     "text": [
      "FINETUNING: [FOLD 02/05] [E 007/010] : 1.0607 | 0.4321 | 0.7775\n"
     ]
    },
    {
     "name": "stderr",
     "output_type": "stream",
     "text": [
      " 80%|████████  | 8/10 [00:06<00:01,  1.21it/s]"
     ]
    },
    {
     "name": "stdout",
     "output_type": "stream",
     "text": [
      "FINETUNING: [FOLD 02/05] [E 008/010] : 1.0593 | 0.4324 | 0.7775\n"
     ]
    },
    {
     "name": "stderr",
     "output_type": "stream",
     "text": [
      " 90%|█████████ | 9/10 [00:07<00:00,  1.19it/s]"
     ]
    },
    {
     "name": "stdout",
     "output_type": "stream",
     "text": [
      "FINETUNING: [FOLD 02/05] [E 009/010] : 1.0615 | 0.4325 | 0.7775\n"
     ]
    },
    {
     "name": "stderr",
     "output_type": "stream",
     "text": [
      "100%|██████████| 10/10 [00:08<00:00,  1.18it/s]"
     ]
    },
    {
     "name": "stdout",
     "output_type": "stream",
     "text": [
      "FINETUNING: [FOLD 02/05] [E 010/010] : 1.0568 | 0.4326 | 0.7775\n"
     ]
    },
    {
     "name": "stderr",
     "output_type": "stream",
     "text": [
      "\n",
      " 10%|█         | 1/10 [00:00<00:07,  1.14it/s]"
     ]
    },
    {
     "name": "stdout",
     "output_type": "stream",
     "text": [
      "FINETUNING: [FOLD 03/05] [E 001/010] : 1.2127 | 0.4199 | 0.7703\n"
     ]
    },
    {
     "name": "stderr",
     "output_type": "stream",
     "text": [
      " 20%|██        | 2/10 [00:01<00:06,  1.24it/s]"
     ]
    },
    {
     "name": "stdout",
     "output_type": "stream",
     "text": [
      "FINETUNING: [FOLD 03/05] [E 002/010] : 1.1627 | 0.4264 | 0.7709\n"
     ]
    },
    {
     "name": "stderr",
     "output_type": "stream",
     "text": [
      " 30%|███       | 3/10 [00:02<00:05,  1.22it/s]"
     ]
    },
    {
     "name": "stdout",
     "output_type": "stream",
     "text": [
      "FINETUNING: [FOLD 03/05] [E 003/010] : 1.1293 | 0.4311 | 0.7712\n"
     ]
    },
    {
     "name": "stderr",
     "output_type": "stream",
     "text": [
      " 40%|████      | 4/10 [00:03<00:04,  1.25it/s]"
     ]
    },
    {
     "name": "stdout",
     "output_type": "stream",
     "text": [
      "FINETUNING: [FOLD 03/05] [E 004/010] : 1.1038 | 0.4333 | 0.7713\n"
     ]
    },
    {
     "name": "stderr",
     "output_type": "stream",
     "text": [
      " 50%|█████     | 5/10 [00:04<00:04,  1.24it/s]"
     ]
    },
    {
     "name": "stdout",
     "output_type": "stream",
     "text": [
      "FINETUNING: [FOLD 03/05] [E 005/010] : 1.0928 | 0.4341 | 0.7714\n"
     ]
    },
    {
     "name": "stderr",
     "output_type": "stream",
     "text": [
      " 60%|██████    | 6/10 [00:04<00:03,  1.27it/s]"
     ]
    },
    {
     "name": "stdout",
     "output_type": "stream",
     "text": [
      "FINETUNING: [FOLD 03/05] [E 006/010] : 1.0825 | 0.4343 | 0.7714\n"
     ]
    },
    {
     "name": "stderr",
     "output_type": "stream",
     "text": [
      " 70%|███████   | 7/10 [00:05<00:02,  1.25it/s]"
     ]
    },
    {
     "name": "stdout",
     "output_type": "stream",
     "text": [
      "FINETUNING: [FOLD 03/05] [E 007/010] : 1.0795 | 0.4346 | 0.7715\n"
     ]
    },
    {
     "name": "stderr",
     "output_type": "stream",
     "text": [
      " 80%|████████  | 8/10 [00:06<00:01,  1.23it/s]"
     ]
    },
    {
     "name": "stdout",
     "output_type": "stream",
     "text": [
      "FINETUNING: [FOLD 03/05] [E 008/010] : 1.0683 | 0.4349 | 0.7715\n"
     ]
    },
    {
     "name": "stderr",
     "output_type": "stream",
     "text": [
      " 90%|█████████ | 9/10 [00:07<00:00,  1.23it/s]"
     ]
    },
    {
     "name": "stdout",
     "output_type": "stream",
     "text": [
      "FINETUNING: [FOLD 03/05] [E 009/010] : 1.0739 | 0.4350 | 0.7715\n"
     ]
    },
    {
     "name": "stderr",
     "output_type": "stream",
     "text": [
      "100%|██████████| 10/10 [00:08<00:00,  1.24it/s]"
     ]
    },
    {
     "name": "stdout",
     "output_type": "stream",
     "text": [
      "FINETUNING: [FOLD 03/05] [E 010/010] : 1.0723 | 0.4350 | 0.7715\n"
     ]
    },
    {
     "name": "stderr",
     "output_type": "stream",
     "text": [
      "\n",
      " 10%|█         | 1/10 [00:00<00:07,  1.25it/s]"
     ]
    },
    {
     "name": "stdout",
     "output_type": "stream",
     "text": [
      "FINETUNING: [FOLD 04/05] [E 001/010] : 1.2323 | 0.4583 | 0.7760\n"
     ]
    },
    {
     "name": "stderr",
     "output_type": "stream",
     "text": [
      " 20%|██        | 2/10 [00:01<00:06,  1.31it/s]"
     ]
    },
    {
     "name": "stdout",
     "output_type": "stream",
     "text": [
      "FINETUNING: [FOLD 04/05] [E 002/010] : 1.1816 | 0.4618 | 0.7762\n"
     ]
    },
    {
     "name": "stderr",
     "output_type": "stream",
     "text": [
      " 30%|███       | 3/10 [00:02<00:05,  1.27it/s]"
     ]
    },
    {
     "name": "stdout",
     "output_type": "stream",
     "text": [
      "FINETUNING: [FOLD 04/05] [E 003/010] : 1.1484 | 0.4634 | 0.7763\n"
     ]
    },
    {
     "name": "stderr",
     "output_type": "stream",
     "text": [
      " 40%|████      | 4/10 [00:03<00:04,  1.30it/s]"
     ]
    },
    {
     "name": "stdout",
     "output_type": "stream",
     "text": [
      "FINETUNING: [FOLD 04/05] [E 004/010] : 1.1245 | 0.4637 | 0.7765\n"
     ]
    },
    {
     "name": "stderr",
     "output_type": "stream",
     "text": [
      " 50%|█████     | 5/10 [00:03<00:03,  1.32it/s]"
     ]
    },
    {
     "name": "stdout",
     "output_type": "stream",
     "text": [
      "FINETUNING: [FOLD 04/05] [E 005/010] : 1.1106 | 0.4636 | 0.7766\n"
     ]
    },
    {
     "name": "stderr",
     "output_type": "stream",
     "text": [
      " 60%|██████    | 6/10 [00:04<00:03,  1.29it/s]"
     ]
    },
    {
     "name": "stdout",
     "output_type": "stream",
     "text": [
      "FINETUNING: [FOLD 04/05] [E 006/010] : 1.1032 | 0.4634 | 0.7768\n"
     ]
    },
    {
     "name": "stderr",
     "output_type": "stream",
     "text": [
      " 70%|███████   | 7/10 [00:05<00:02,  1.33it/s]"
     ]
    },
    {
     "name": "stdout",
     "output_type": "stream",
     "text": [
      "FINETUNING: [FOLD 04/05] [E 007/010] : 1.0940 | 0.4633 | 0.7768\n"
     ]
    },
    {
     "name": "stderr",
     "output_type": "stream",
     "text": [
      " 80%|████████  | 8/10 [00:06<00:01,  1.34it/s]"
     ]
    },
    {
     "name": "stdout",
     "output_type": "stream",
     "text": [
      "FINETUNING: [FOLD 04/05] [E 008/010] : 1.0889 | 0.4633 | 0.7769\n"
     ]
    },
    {
     "name": "stderr",
     "output_type": "stream",
     "text": [
      " 90%|█████████ | 9/10 [00:06<00:00,  1.31it/s]"
     ]
    },
    {
     "name": "stdout",
     "output_type": "stream",
     "text": [
      "FINETUNING: [FOLD 04/05] [E 009/010] : 1.0857 | 0.4633 | 0.7769\n"
     ]
    },
    {
     "name": "stderr",
     "output_type": "stream",
     "text": [
      "100%|██████████| 10/10 [00:07<00:00,  1.31it/s]"
     ]
    },
    {
     "name": "stdout",
     "output_type": "stream",
     "text": [
      "FINETUNING: [FOLD 04/05] [E 010/010] : 1.0901 | 0.4633 | 0.7769\n"
     ]
    },
    {
     "name": "stderr",
     "output_type": "stream",
     "text": [
      "\n",
      " 10%|█         | 1/10 [00:00<00:05,  1.65it/s]"
     ]
    },
    {
     "name": "stdout",
     "output_type": "stream",
     "text": [
      "FINETUNING: [FOLD 05/05] [E 001/010] : 1.1878 | 0.3794 | 0.7367\n"
     ]
    },
    {
     "name": "stderr",
     "output_type": "stream",
     "text": [
      " 20%|██        | 2/10 [00:01<00:04,  1.65it/s]"
     ]
    },
    {
     "name": "stdout",
     "output_type": "stream",
     "text": [
      "FINETUNING: [FOLD 05/05] [E 002/010] : 1.1435 | 0.3820 | 0.7378\n"
     ]
    },
    {
     "name": "stderr",
     "output_type": "stream",
     "text": [
      " 30%|███       | 3/10 [00:01<00:04,  1.67it/s]"
     ]
    },
    {
     "name": "stdout",
     "output_type": "stream",
     "text": [
      "FINETUNING: [FOLD 05/05] [E 003/010] : 1.1053 | 0.3844 | 0.7383\n"
     ]
    },
    {
     "name": "stderr",
     "output_type": "stream",
     "text": [
      " 40%|████      | 4/10 [00:02<00:03,  1.67it/s]"
     ]
    },
    {
     "name": "stdout",
     "output_type": "stream",
     "text": [
      "FINETUNING: [FOLD 05/05] [E 004/010] : 1.0853 | 0.3856 | 0.7386\n"
     ]
    },
    {
     "name": "stderr",
     "output_type": "stream",
     "text": [
      " 50%|█████     | 5/10 [00:02<00:02,  1.73it/s]"
     ]
    },
    {
     "name": "stdout",
     "output_type": "stream",
     "text": [
      "FINETUNING: [FOLD 05/05] [E 005/010] : 1.0761 | 0.3867 | 0.7388\n"
     ]
    },
    {
     "name": "stderr",
     "output_type": "stream",
     "text": [
      " 60%|██████    | 6/10 [00:03<00:02,  1.71it/s]"
     ]
    },
    {
     "name": "stdout",
     "output_type": "stream",
     "text": [
      "FINETUNING: [FOLD 05/05] [E 006/010] : 1.0702 | 0.3877 | 0.7389\n"
     ]
    },
    {
     "name": "stderr",
     "output_type": "stream",
     "text": [
      " 70%|███████   | 7/10 [00:04<00:01,  1.70it/s]"
     ]
    },
    {
     "name": "stdout",
     "output_type": "stream",
     "text": [
      "FINETUNING: [FOLD 05/05] [E 007/010] : 1.0578 | 0.3881 | 0.7390\n"
     ]
    },
    {
     "name": "stderr",
     "output_type": "stream",
     "text": [
      " 80%|████████  | 8/10 [00:04<00:01,  1.70it/s]"
     ]
    },
    {
     "name": "stdout",
     "output_type": "stream",
     "text": [
      "FINETUNING: [FOLD 05/05] [E 008/010] : 1.0528 | 0.3883 | 0.7390\n"
     ]
    },
    {
     "name": "stderr",
     "output_type": "stream",
     "text": [
      " 90%|█████████ | 9/10 [00:05<00:00,  1.70it/s]"
     ]
    },
    {
     "name": "stdout",
     "output_type": "stream",
     "text": [
      "FINETUNING: [FOLD 05/05] [E 009/010] : 1.0521 | 0.3884 | 0.7390\n"
     ]
    },
    {
     "name": "stderr",
     "output_type": "stream",
     "text": [
      "100%|██████████| 10/10 [00:05<00:00,  1.69it/s]"
     ]
    },
    {
     "name": "stdout",
     "output_type": "stream",
     "text": [
      "FINETUNING: [FOLD 05/05] [E 010/010] : 1.0427 | 0.3884 | 0.7390\n"
     ]
    },
    {
     "name": "stderr",
     "output_type": "stream",
     "text": [
      "\n"
     ]
    }
   ],
   "source": [
    "# MODEL FINE TUNING\n",
    "\n",
    "models = ['models/F01_0.7744.pt', 'models/F02_0.7768.pt','models/F03_0.7693.pt', 'models/F04_0.7757.pt', 'models/F05_0.7350.pt']\n",
    "\n",
    "pf_set = GeneFeatureDataset(g_pf, x_pf, y_pf, None, 'train', None)\n",
    "pf_loader = DataLoader(\n",
    "    dataset=pf_set, batch_size=batch_size, shuffle=True, num_workers=0)\n",
    "\n",
    "for fold in range(5):\n",
    "    valid_set = GeneFeatureDataset(\n",
    "        g_train, x_train, y_train, fold, 'valid', train_fold)\n",
    "    valid_loader = DataLoader(\n",
    "        dataset=valid_set, batch_size=batch_size, shuffle=True, num_workers=0)\n",
    "\n",
    "    model = GeneInteractionModel(\n",
    "            hidden_size=hidden_size, num_layers=n_layers).to(device)\n",
    "    \n",
    "    model.load_state_dict(torch.load(models[fold]))\n",
    "\n",
    "    model = finetune_model(model, fold, pf_loader, valid_loader)\n",
    "\n",
    "    torch.save(model.state_dict(), 'models/final/F{:02}.pt'.format(fold + 1))"
   ]
  },
  {
   "cell_type": "code",
   "execution_count": 57,
   "metadata": {},
   "outputs": [
    {
     "name": "stdout",
     "output_type": "stream",
     "text": [
      "0.8441792122648796\n"
     ]
    }
   ],
   "source": [
    "test_set = GeneFeatureDataset(g_test, x_test, y_test)\n",
    "test_loader = DataLoader(\n",
    "    dataset=test_set, batch_size=batch_size, shuffle=False, num_workers=0)\n",
    "\n",
    "preds = []\n",
    "\n",
    "for fold in range(5):\n",
    "    model = GeneInteractionModel(\n",
    "        hidden_size=hidden_size, num_layers=n_layers).to(device)\n",
    "    \n",
    "    model.load_state_dict(torch.load('models/final/F{:02}.pt'.format(fold + 1)))\n",
    "\n",
    "    pred_, y_ = None, None\n",
    "\n",
    "    model.eval()\n",
    "    with torch.no_grad():\n",
    "        for i, (g, x, y) in enumerate(test_loader):\n",
    "            g = torch.permute(g, (0, 3, 1, 2))\n",
    "            y = y.reshape(-1, 1)\n",
    "\n",
    "            pred = model(g, x)\n",
    "\n",
    "            if pred_ is None:\n",
    "                pred_ = pred.detach().cpu().numpy()\n",
    "                y_ = y.detach().cpu().numpy()\n",
    "            else:\n",
    "                pred_ = np.concatenate(\n",
    "                    (pred_, pred.detach().cpu().numpy()))\n",
    "                y_ = np.concatenate((y_, y.detach().cpu().numpy()))\n",
    "    \n",
    "    preds.append(pred_)\n",
    "    SPR = scipy.stats.spearmanr(pred_, y_).correlation\n",
    "\n",
    "preds = np.squeeze(np.array(preds))\n",
    "preds = np.mean(preds, axis=0)\n",
    "\n",
    "print(scipy.stats.spearmanr(preds, y_).correlation)\n",
    "\n",
    "preds = preds * train_target.std() + train_target.mean()\n",
    "y_ = y_ * train_target.std() + train_target.mean()\n",
    "\n",
    "preds = pd.DataFrame(preds, columns=['Predicted PE efficiency'])\n",
    "preds.to_csv('results/220218.csv', index=False)\n"
   ]
  },
  {
   "cell_type": "code",
   "execution_count": 58,
   "metadata": {},
   "outputs": [],
   "source": [
    "plot.plot_spearman(preds, y_, 'Evaluation of DeepPE2.jpg')"
   ]
  }
 ],
 "metadata": {
  "interpreter": {
   "hash": "6a7613cd914eed0861a71d3563e174029307b7234eceeeb943f9e4e2446ab66f"
  },
  "kernelspec": {
   "display_name": "Python 3.8.12 ('gene')",
   "language": "python",
   "name": "python3"
  },
  "language_info": {
   "codemirror_mode": {
    "name": "ipython",
    "version": 3
   },
   "file_extension": ".py",
   "mimetype": "text/x-python",
   "name": "python",
   "nbconvert_exporter": "python",
   "pygments_lexer": "ipython3",
   "version": "3.7.11"
  },
  "orig_nbformat": 4
 },
 "nbformat": 4,
 "nbformat_minor": 2
}
